{
 "cells": [
  {
   "cell_type": "code",
   "execution_count": 1,
   "metadata": {},
   "outputs": [],
   "source": [
    "import pandas as pd\n",
    "from citipy import citipy\n",
    "import random\n",
    "from matplotlib import pyplot as plt\n",
    "from config import api_key\n",
    "from openweathermapy import core as owm\n",
    "import time"
   ]
  },
  {
   "cell_type": "code",
   "execution_count": 2,
   "metadata": {},
   "outputs": [
    {
     "data": {
      "text/plain": [
       "'Diu'"
      ]
     },
     "execution_count": 2,
     "metadata": {},
     "output_type": "execute_result"
    }
   ],
   "source": [
    "testLat = random.uniform(-90, 90)\n",
    "testLng = random.uniform(-180, 180)\n",
    "testCity = citipy.nearest_city(testLat, testLng)\n",
    "testCity.city_name.title()"
   ]
  },
  {
   "cell_type": "code",
   "execution_count": 3,
   "metadata": {},
   "outputs": [
    {
     "name": "stdout",
     "output_type": "stream",
     "text": [
      "['Albany', 'Basyanovskiy', 'Taolanaro', 'Ushuaia', 'Luderitz', 'Nabire', 'Illoqqortoormiut', 'Rikitea', 'Thompson', 'Berlevag']\n",
      "[-70.50239356897484, 58.469214237295745, -45.31333347604919, -76.73226517112623, -27.11587883376528, -4.900860608101127, 79.78101883623259, -67.43230018049498, 63.2874047920543, 75.56573771032981]\n",
      "[120.79315077749419, 60.89431367034351, 49.86343909879358, -44.51298636621601, 5.830669359343403, 137.2746206843276, -28.17516769813014, -121.82756947753528, -99.26554402708773, 30.77319827479741]\n"
     ]
    }
   ],
   "source": [
    "testCities = []\n",
    "latList = []\n",
    "lngList = []\n",
    "while len(testCities) < 10:\n",
    "    testLat = random.uniform(-90, 90)\n",
    "    testLng = random.uniform(-180, 180)\n",
    "    testCity = citipy.nearest_city(testLat, testLng)\n",
    "    if testCity.city_name.title() not in testCities:\n",
    "        testCities.append(testCity.city_name.title())\n",
    "        latList.append(testLat)\n",
    "        lngList.append(testLng)\n",
    "print(testCities)\n",
    "print(latList)\n",
    "print(lngList)\n",
    "    "
   ]
  },
  {
   "cell_type": "code",
   "execution_count": 4,
   "metadata": {},
   "outputs": [
    {
     "data": {
      "text/plain": [
       "'albany'"
      ]
     },
     "execution_count": 4,
     "metadata": {},
     "output_type": "execute_result"
    }
   ],
   "source": [
    "checker = citipy.nearest_city(latList[0], lngList[0])\n",
    "checker.city_name"
   ]
  },
  {
   "cell_type": "code",
   "execution_count": 5,
   "metadata": {},
   "outputs": [
    {
     "data": {
      "text/plain": [
       "'berlevag'"
      ]
     },
     "execution_count": 5,
     "metadata": {},
     "output_type": "execute_result"
    }
   ],
   "source": [
    "checker2 = citipy.nearest_city(latList[9], lngList[9])\n",
    "checker2.city_name"
   ]
  },
  {
   "cell_type": "code",
   "execution_count": 6,
   "metadata": {},
   "outputs": [
    {
     "data": {
      "text/html": [
       "<div>\n",
       "<style scoped>\n",
       "    .dataframe tbody tr th:only-of-type {\n",
       "        vertical-align: middle;\n",
       "    }\n",
       "\n",
       "    .dataframe tbody tr th {\n",
       "        vertical-align: top;\n",
       "    }\n",
       "\n",
       "    .dataframe thead th {\n",
       "        text-align: right;\n",
       "    }\n",
       "</style>\n",
       "<table border=\"1\" class=\"dataframe\">\n",
       "  <thead>\n",
       "    <tr style=\"text-align: right;\">\n",
       "      <th></th>\n",
       "      <th>Random Lat</th>\n",
       "      <th>Random Lng</th>\n",
       "    </tr>\n",
       "    <tr>\n",
       "      <th>Nearest City</th>\n",
       "      <th></th>\n",
       "      <th></th>\n",
       "    </tr>\n",
       "  </thead>\n",
       "  <tbody>\n",
       "    <tr>\n",
       "      <th>Albany</th>\n",
       "      <td>-70.502394</td>\n",
       "      <td>120.793151</td>\n",
       "    </tr>\n",
       "    <tr>\n",
       "      <th>Basyanovskiy</th>\n",
       "      <td>58.469214</td>\n",
       "      <td>60.894314</td>\n",
       "    </tr>\n",
       "    <tr>\n",
       "      <th>Taolanaro</th>\n",
       "      <td>-45.313333</td>\n",
       "      <td>49.863439</td>\n",
       "    </tr>\n",
       "    <tr>\n",
       "      <th>Ushuaia</th>\n",
       "      <td>-76.732265</td>\n",
       "      <td>-44.512986</td>\n",
       "    </tr>\n",
       "    <tr>\n",
       "      <th>Luderitz</th>\n",
       "      <td>-27.115879</td>\n",
       "      <td>5.830669</td>\n",
       "    </tr>\n",
       "    <tr>\n",
       "      <th>Nabire</th>\n",
       "      <td>-4.900861</td>\n",
       "      <td>137.274621</td>\n",
       "    </tr>\n",
       "    <tr>\n",
       "      <th>Illoqqortoormiut</th>\n",
       "      <td>79.781019</td>\n",
       "      <td>-28.175168</td>\n",
       "    </tr>\n",
       "    <tr>\n",
       "      <th>Rikitea</th>\n",
       "      <td>-67.432300</td>\n",
       "      <td>-121.827569</td>\n",
       "    </tr>\n",
       "    <tr>\n",
       "      <th>Thompson</th>\n",
       "      <td>63.287405</td>\n",
       "      <td>-99.265544</td>\n",
       "    </tr>\n",
       "    <tr>\n",
       "      <th>Berlevag</th>\n",
       "      <td>75.565738</td>\n",
       "      <td>30.773198</td>\n",
       "    </tr>\n",
       "  </tbody>\n",
       "</table>\n",
       "</div>"
      ],
      "text/plain": [
       "                  Random Lat  Random Lng\n",
       "Nearest City                            \n",
       "Albany            -70.502394  120.793151\n",
       "Basyanovskiy       58.469214   60.894314\n",
       "Taolanaro         -45.313333   49.863439\n",
       "Ushuaia           -76.732265  -44.512986\n",
       "Luderitz          -27.115879    5.830669\n",
       "Nabire             -4.900861  137.274621\n",
       "Illoqqortoormiut   79.781019  -28.175168\n",
       "Rikitea           -67.432300 -121.827569\n",
       "Thompson           63.287405  -99.265544\n",
       "Berlevag           75.565738   30.773198"
      ]
     },
     "execution_count": 6,
     "metadata": {},
     "output_type": "execute_result"
    }
   ],
   "source": [
    "cities_df = pd.DataFrame({\n",
    "    'Nearest City': testCities,\n",
    "    'Random Lat': latList,\n",
    "    'Random Lng': lngList\n",
    "})\n",
    "cities_df.set_index('Nearest City', inplace = True)\n",
    "cities_df"
   ]
  },
  {
   "cell_type": "code",
   "execution_count": 14,
   "metadata": {},
   "outputs": [
    {
     "name": "stdout",
     "output_type": "stream",
     "text": [
      "\n",
      "---------------------------------\n",
      "Beginning Data Retrieval\n",
      "---------------------------------\n",
      "\n",
      "Retrieving data for Record 1 in Set 1: Albany\n",
      "City of Basyanovskiy not found - skipping record\n",
      "City of Taolanaro not found - skipping record\n",
      "Retrieving data for Record 1 in Set 2: Ushuaia\n",
      "Retrieving data for Record 1 in Set 3: Luderitz\n",
      "Retrieving data for Record 2 in Set 3: Nabire\n",
      "City of Illoqqortoormiut not found - skipping record\n",
      "Retrieving data for Record 1 in Set 4: Rikitea\n",
      "Retrieving data for Record 1 in Set 5: Thompson\n",
      "Retrieving data for Record 2 in Set 5: Berlevag\n",
      "\n",
      "---------------------------------\n",
      "Data Retrieval Complete\n",
      "---------------------------------\n",
      "\n"
     ]
    }
   ],
   "source": [
    "params = {\n",
    "    'units': 'metric',\n",
    "    'appid': api_key\n",
    "}\n",
    "\n",
    "testCityData = []\n",
    "recordCount = 1\n",
    "setCount = 1\n",
    "\n",
    "print('''\n",
    "---------------------------------\n",
    "Beginning Data Retrieval\n",
    "---------------------------------\n",
    "''')\n",
    "\n",
    "for city in testCities:\n",
    "    if (testCities.index(city) % 2 == 0) and (testCities.index(city) > 1):\n",
    "        time.sleep(5)\n",
    "        setCount += 1\n",
    "        recordCount = 1\n",
    "    try:\n",
    "        testCityData.append(owm.get_current(city, **params))        \n",
    "        print(f'Retrieving data for Record {recordCount} in Set {setCount}: {city}')\n",
    "        recordCount += 1\n",
    "    except:\n",
    "        print(f'City of {city} not found - skipping record')\n",
    "\n",
    "print('''\n",
    "---------------------------------\n",
    "Data Retrieval Complete\n",
    "---------------------------------\n",
    "''')"
   ]
  },
  {
   "cell_type": "code",
   "execution_count": 8,
   "metadata": {},
   "outputs": [
    {
     "name": "stdout",
     "output_type": "stream",
     "text": [
      "7\n"
     ]
    }
   ],
   "source": [
    "print(len(testCityData))"
   ]
  },
  {
   "cell_type": "code",
   "execution_count": 9,
   "metadata": {},
   "outputs": [
    {
     "data": {
      "text/plain": [
       "[('Albany', 'US', 42.65, -73.75, 1554048426, 4.39, 81, 8.7, 90),\n",
       " ('Ushuaia', 'AR', -54.81, -68.31, 1554044400, 10, 76, 2.1, 75),\n",
       " ('Luderitz', 'NA', -26.65, 15.16, 1554048438, 19.87, 80, 9.22, 12),\n",
       " ('Nabire', 'ID', -3.36, 135.5, 1554048438, 20.02, 94, 0.72, 48),\n",
       " ('Rikitea', 'PF', -23.12, -134.97, 1554048444, 24.82, 100, 8.87, 36),\n",
       " ('Thompson', 'CA', 55.74, -97.86, 1554044400, -5, 62, 7.2, 75),\n",
       " ('Berlevag', 'NO', 70.86, 29.09, 1554045600, -1.48, 86, 17, 90)]"
      ]
     },
     "execution_count": 9,
     "metadata": {},
     "output_type": "execute_result"
    }
   ],
   "source": [
    "summary = ['name', 'sys.country', 'coord.lat', 'coord.lon',\n",
    "           'dt', 'main.temp', 'main.humidity', 'wind.speed', 'clouds.all']\n",
    "\n",
    "df_list = []\n",
    "for index in range(len(testCityData)):\n",
    "    df_list.append(testCityData[index](*summary))\n",
    "df_list"
   ]
  },
  {
   "cell_type": "code",
   "execution_count": 10,
   "metadata": {},
   "outputs": [
    {
     "data": {
      "text/html": [
       "<div>\n",
       "<style scoped>\n",
       "    .dataframe tbody tr th:only-of-type {\n",
       "        vertical-align: middle;\n",
       "    }\n",
       "\n",
       "    .dataframe tbody tr th {\n",
       "        vertical-align: top;\n",
       "    }\n",
       "\n",
       "    .dataframe thead th {\n",
       "        text-align: right;\n",
       "    }\n",
       "</style>\n",
       "<table border=\"1\" class=\"dataframe\">\n",
       "  <thead>\n",
       "    <tr style=\"text-align: right;\">\n",
       "      <th></th>\n",
       "      <th>City</th>\n",
       "      <th>Country</th>\n",
       "      <th>Latitutde</th>\n",
       "      <th>Longitude</th>\n",
       "      <th>Date</th>\n",
       "      <th>Temperature</th>\n",
       "      <th>Humidity</th>\n",
       "      <th>Wind Speed</th>\n",
       "      <th>Cloud %</th>\n",
       "    </tr>\n",
       "  </thead>\n",
       "  <tbody>\n",
       "    <tr>\n",
       "      <th>0</th>\n",
       "      <td>Albany</td>\n",
       "      <td>US</td>\n",
       "      <td>42.65</td>\n",
       "      <td>-73.75</td>\n",
       "      <td>1554048426</td>\n",
       "      <td>4.39</td>\n",
       "      <td>81</td>\n",
       "      <td>8.70</td>\n",
       "      <td>90</td>\n",
       "    </tr>\n",
       "    <tr>\n",
       "      <th>1</th>\n",
       "      <td>Ushuaia</td>\n",
       "      <td>AR</td>\n",
       "      <td>-54.81</td>\n",
       "      <td>-68.31</td>\n",
       "      <td>1554044400</td>\n",
       "      <td>10.00</td>\n",
       "      <td>76</td>\n",
       "      <td>2.10</td>\n",
       "      <td>75</td>\n",
       "    </tr>\n",
       "    <tr>\n",
       "      <th>2</th>\n",
       "      <td>Luderitz</td>\n",
       "      <td>NA</td>\n",
       "      <td>-26.65</td>\n",
       "      <td>15.16</td>\n",
       "      <td>1554048438</td>\n",
       "      <td>19.87</td>\n",
       "      <td>80</td>\n",
       "      <td>9.22</td>\n",
       "      <td>12</td>\n",
       "    </tr>\n",
       "    <tr>\n",
       "      <th>3</th>\n",
       "      <td>Nabire</td>\n",
       "      <td>ID</td>\n",
       "      <td>-3.36</td>\n",
       "      <td>135.50</td>\n",
       "      <td>1554048438</td>\n",
       "      <td>20.02</td>\n",
       "      <td>94</td>\n",
       "      <td>0.72</td>\n",
       "      <td>48</td>\n",
       "    </tr>\n",
       "    <tr>\n",
       "      <th>4</th>\n",
       "      <td>Rikitea</td>\n",
       "      <td>PF</td>\n",
       "      <td>-23.12</td>\n",
       "      <td>-134.97</td>\n",
       "      <td>1554048444</td>\n",
       "      <td>24.82</td>\n",
       "      <td>100</td>\n",
       "      <td>8.87</td>\n",
       "      <td>36</td>\n",
       "    </tr>\n",
       "    <tr>\n",
       "      <th>5</th>\n",
       "      <td>Thompson</td>\n",
       "      <td>CA</td>\n",
       "      <td>55.74</td>\n",
       "      <td>-97.86</td>\n",
       "      <td>1554044400</td>\n",
       "      <td>-5.00</td>\n",
       "      <td>62</td>\n",
       "      <td>7.20</td>\n",
       "      <td>75</td>\n",
       "    </tr>\n",
       "    <tr>\n",
       "      <th>6</th>\n",
       "      <td>Berlevag</td>\n",
       "      <td>NO</td>\n",
       "      <td>70.86</td>\n",
       "      <td>29.09</td>\n",
       "      <td>1554045600</td>\n",
       "      <td>-1.48</td>\n",
       "      <td>86</td>\n",
       "      <td>17.00</td>\n",
       "      <td>90</td>\n",
       "    </tr>\n",
       "  </tbody>\n",
       "</table>\n",
       "</div>"
      ],
      "text/plain": [
       "       City Country  Latitutde  Longitude        Date  Temperature  Humidity  \\\n",
       "0    Albany      US      42.65     -73.75  1554048426         4.39        81   \n",
       "1   Ushuaia      AR     -54.81     -68.31  1554044400        10.00        76   \n",
       "2  Luderitz      NA     -26.65      15.16  1554048438        19.87        80   \n",
       "3    Nabire      ID      -3.36     135.50  1554048438        20.02        94   \n",
       "4   Rikitea      PF     -23.12    -134.97  1554048444        24.82       100   \n",
       "5  Thompson      CA      55.74     -97.86  1554044400        -5.00        62   \n",
       "6  Berlevag      NO      70.86      29.09  1554045600        -1.48        86   \n",
       "\n",
       "   Wind Speed  Cloud %  \n",
       "0        8.70       90  \n",
       "1        2.10       75  \n",
       "2        9.22       12  \n",
       "3        0.72       48  \n",
       "4        8.87       36  \n",
       "5        7.20       75  \n",
       "6       17.00       90  "
      ]
     },
     "execution_count": 10,
     "metadata": {},
     "output_type": "execute_result"
    }
   ],
   "source": [
    "df = pd.DataFrame(df_list, columns = [\n",
    "    'City', 'Country', 'Latitutde', 'Longitude', 'Date', 'Temperature', 'Humidity', 'Wind Speed', 'Cloud %'\n",
    "])\n",
    "df"
   ]
  },
  {
   "cell_type": "code",
   "execution_count": 11,
   "metadata": {},
   "outputs": [
    {
     "data": {
      "text/html": [
       "<div>\n",
       "<style scoped>\n",
       "    .dataframe tbody tr th:only-of-type {\n",
       "        vertical-align: middle;\n",
       "    }\n",
       "\n",
       "    .dataframe tbody tr th {\n",
       "        vertical-align: top;\n",
       "    }\n",
       "\n",
       "    .dataframe thead th {\n",
       "        text-align: right;\n",
       "    }\n",
       "</style>\n",
       "<table border=\"1\" class=\"dataframe\">\n",
       "  <thead>\n",
       "    <tr style=\"text-align: right;\">\n",
       "      <th></th>\n",
       "      <th>City</th>\n",
       "      <th>Country</th>\n",
       "      <th>Latitutde</th>\n",
       "      <th>Longitude</th>\n",
       "      <th>Date</th>\n",
       "      <th>Temperature</th>\n",
       "      <th>Humidity</th>\n",
       "      <th>Wind Speed</th>\n",
       "      <th>Cloud %</th>\n",
       "    </tr>\n",
       "  </thead>\n",
       "  <tbody>\n",
       "    <tr>\n",
       "      <th>0</th>\n",
       "      <td>Albany</td>\n",
       "      <td>US</td>\n",
       "      <td>42.65</td>\n",
       "      <td>-73.75</td>\n",
       "      <td>Sun Mar 31 10:07:06 2019</td>\n",
       "      <td>4.39</td>\n",
       "      <td>81</td>\n",
       "      <td>8.70</td>\n",
       "      <td>90</td>\n",
       "    </tr>\n",
       "    <tr>\n",
       "      <th>1</th>\n",
       "      <td>Ushuaia</td>\n",
       "      <td>AR</td>\n",
       "      <td>-54.81</td>\n",
       "      <td>-68.31</td>\n",
       "      <td>Sun Mar 31 09:00:00 2019</td>\n",
       "      <td>10.00</td>\n",
       "      <td>76</td>\n",
       "      <td>2.10</td>\n",
       "      <td>75</td>\n",
       "    </tr>\n",
       "    <tr>\n",
       "      <th>2</th>\n",
       "      <td>Luderitz</td>\n",
       "      <td>NA</td>\n",
       "      <td>-26.65</td>\n",
       "      <td>15.16</td>\n",
       "      <td>Sun Mar 31 10:07:18 2019</td>\n",
       "      <td>19.87</td>\n",
       "      <td>80</td>\n",
       "      <td>9.22</td>\n",
       "      <td>12</td>\n",
       "    </tr>\n",
       "    <tr>\n",
       "      <th>3</th>\n",
       "      <td>Nabire</td>\n",
       "      <td>ID</td>\n",
       "      <td>-3.36</td>\n",
       "      <td>135.50</td>\n",
       "      <td>Sun Mar 31 10:07:18 2019</td>\n",
       "      <td>20.02</td>\n",
       "      <td>94</td>\n",
       "      <td>0.72</td>\n",
       "      <td>48</td>\n",
       "    </tr>\n",
       "    <tr>\n",
       "      <th>4</th>\n",
       "      <td>Rikitea</td>\n",
       "      <td>PF</td>\n",
       "      <td>-23.12</td>\n",
       "      <td>-134.97</td>\n",
       "      <td>Sun Mar 31 10:07:24 2019</td>\n",
       "      <td>24.82</td>\n",
       "      <td>100</td>\n",
       "      <td>8.87</td>\n",
       "      <td>36</td>\n",
       "    </tr>\n",
       "    <tr>\n",
       "      <th>5</th>\n",
       "      <td>Thompson</td>\n",
       "      <td>CA</td>\n",
       "      <td>55.74</td>\n",
       "      <td>-97.86</td>\n",
       "      <td>Sun Mar 31 09:00:00 2019</td>\n",
       "      <td>-5.00</td>\n",
       "      <td>62</td>\n",
       "      <td>7.20</td>\n",
       "      <td>75</td>\n",
       "    </tr>\n",
       "    <tr>\n",
       "      <th>6</th>\n",
       "      <td>Berlevag</td>\n",
       "      <td>NO</td>\n",
       "      <td>70.86</td>\n",
       "      <td>29.09</td>\n",
       "      <td>Sun Mar 31 09:20:00 2019</td>\n",
       "      <td>-1.48</td>\n",
       "      <td>86</td>\n",
       "      <td>17.00</td>\n",
       "      <td>90</td>\n",
       "    </tr>\n",
       "  </tbody>\n",
       "</table>\n",
       "</div>"
      ],
      "text/plain": [
       "       City Country  Latitutde  Longitude                      Date  \\\n",
       "0    Albany      US      42.65     -73.75  Sun Mar 31 10:07:06 2019   \n",
       "1   Ushuaia      AR     -54.81     -68.31  Sun Mar 31 09:00:00 2019   \n",
       "2  Luderitz      NA     -26.65      15.16  Sun Mar 31 10:07:18 2019   \n",
       "3    Nabire      ID      -3.36     135.50  Sun Mar 31 10:07:18 2019   \n",
       "4   Rikitea      PF     -23.12    -134.97  Sun Mar 31 10:07:24 2019   \n",
       "5  Thompson      CA      55.74     -97.86  Sun Mar 31 09:00:00 2019   \n",
       "6  Berlevag      NO      70.86      29.09  Sun Mar 31 09:20:00 2019   \n",
       "\n",
       "   Temperature  Humidity  Wind Speed  Cloud %  \n",
       "0         4.39        81        8.70       90  \n",
       "1        10.00        76        2.10       75  \n",
       "2        19.87        80        9.22       12  \n",
       "3        20.02        94        0.72       48  \n",
       "4        24.82       100        8.87       36  \n",
       "5        -5.00        62        7.20       75  \n",
       "6        -1.48        86       17.00       90  "
      ]
     },
     "execution_count": 11,
     "metadata": {},
     "output_type": "execute_result"
    }
   ],
   "source": [
    "df_betterDate = df.copy()\n",
    "df_betterDate['Date'] = df_betterDate.Date.apply(lambda x: time.ctime(x))\n",
    "df_betterDate"
   ]
  },
  {
   "cell_type": "code",
   "execution_count": null,
   "metadata": {},
   "outputs": [],
   "source": []
  }
 ],
 "metadata": {
  "kernelspec": {
   "display_name": "Python 3",
   "language": "python",
   "name": "python3"
  },
  "language_info": {
   "codemirror_mode": {
    "name": "ipython",
    "version": 3
   },
   "file_extension": ".py",
   "mimetype": "text/x-python",
   "name": "python",
   "nbconvert_exporter": "python",
   "pygments_lexer": "ipython3",
   "version": "3.7.1"
  }
 },
 "nbformat": 4,
 "nbformat_minor": 2
}
