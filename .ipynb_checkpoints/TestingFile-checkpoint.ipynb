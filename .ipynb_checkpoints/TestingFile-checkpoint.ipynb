{
 "cells": [
  {
   "cell_type": "code",
   "execution_count": 15,
   "metadata": {},
   "outputs": [],
   "source": [
    "import pandas as pd\n",
    "from citipy import citipy\n",
    "import random\n",
    "from matplotlib import pyplot as plt"
   ]
  },
  {
   "cell_type": "code",
   "execution_count": 6,
   "metadata": {},
   "outputs": [
    {
     "data": {
      "text/plain": [
       "'Cape Town'"
      ]
     },
     "execution_count": 6,
     "metadata": {},
     "output_type": "execute_result"
    }
   ],
   "source": [
    "testLat = random.uniform(-90, 90)\n",
    "testLng = random.uniform(-180, 180)\n",
    "testCity = citipy.nearest_city(testLat, testLng)\n",
    "testCity.city_name.title()"
   ]
  },
  {
   "cell_type": "code",
   "execution_count": 8,
   "metadata": {},
   "outputs": [
    {
     "name": "stdout",
     "output_type": "stream",
     "text": [
      "['Yellowknife', 'Faya', 'Torbay', 'Florianopolis', 'Kruisfontein', 'Ushuaia', 'Rikitea', 'Havre-Saint-Pierre', 'Atuona', 'Clyde River']\n",
      "[68.1310802815573, 22.193011755717492, 44.46328017598856, -28.071966136258524, -63.66714822741993, -70.39698857488915, -49.55446895787477, 50.68679519853353, -13.739637302672193, 68.3214063511682]\n",
      "[-104.7211742234081, 20.749777443072105, -44.71534077261657, -45.26745988363348, 26.014287336771616, -38.22619867210412, -136.32063528250177, -62.605518568062195, -132.53105659391977, -72.90608640666346]\n"
     ]
    }
   ],
   "source": [
    "testCities = []\n",
    "latList = []\n",
    "lngList = []\n",
    "while len(testCities) < 10:\n",
    "    testLat = random.uniform(-90, 90)\n",
    "    testLng = random.uniform(-180, 180)\n",
    "    testCity = citipy.nearest_city(testLat, testLng)\n",
    "    if testCity.city_name.title() not in testCities:\n",
    "        testCities.append(testCity.city_name.title())\n",
    "        latList.append(testLat)\n",
    "        lngList.append(testLng)\n",
    "print(testCities)\n",
    "print(latList)\n",
    "print(lngList)\n",
    "    "
   ]
  },
  {
   "cell_type": "code",
   "execution_count": 9,
   "metadata": {},
   "outputs": [
    {
     "data": {
      "text/plain": [
       "'yellowknife'"
      ]
     },
     "execution_count": 9,
     "metadata": {},
     "output_type": "execute_result"
    }
   ],
   "source": [
    "checker = citipy.nearest_city(latList[0], lngList[0])\n",
    "checker.city_name"
   ]
  },
  {
   "cell_type": "code",
   "execution_count": 11,
   "metadata": {},
   "outputs": [
    {
     "data": {
      "text/plain": [
       "'clyde river'"
      ]
     },
     "execution_count": 11,
     "metadata": {},
     "output_type": "execute_result"
    }
   ],
   "source": [
    "checker2 = citipy.nearest_city(latList[9], lngList[9])\n",
    "checker2.city_name"
   ]
  },
  {
   "cell_type": "code",
   "execution_count": 14,
   "metadata": {},
   "outputs": [
    {
     "data": {
      "text/html": [
       "<div>\n",
       "<style scoped>\n",
       "    .dataframe tbody tr th:only-of-type {\n",
       "        vertical-align: middle;\n",
       "    }\n",
       "\n",
       "    .dataframe tbody tr th {\n",
       "        vertical-align: top;\n",
       "    }\n",
       "\n",
       "    .dataframe thead th {\n",
       "        text-align: right;\n",
       "    }\n",
       "</style>\n",
       "<table border=\"1\" class=\"dataframe\">\n",
       "  <thead>\n",
       "    <tr style=\"text-align: right;\">\n",
       "      <th></th>\n",
       "      <th>Random Lat</th>\n",
       "      <th>Random Lng</th>\n",
       "    </tr>\n",
       "    <tr>\n",
       "      <th>Nearest City</th>\n",
       "      <th></th>\n",
       "      <th></th>\n",
       "    </tr>\n",
       "  </thead>\n",
       "  <tbody>\n",
       "    <tr>\n",
       "      <th>Yellowknife</th>\n",
       "      <td>68.131080</td>\n",
       "      <td>-104.721174</td>\n",
       "    </tr>\n",
       "    <tr>\n",
       "      <th>Faya</th>\n",
       "      <td>22.193012</td>\n",
       "      <td>20.749777</td>\n",
       "    </tr>\n",
       "    <tr>\n",
       "      <th>Torbay</th>\n",
       "      <td>44.463280</td>\n",
       "      <td>-44.715341</td>\n",
       "    </tr>\n",
       "    <tr>\n",
       "      <th>Florianopolis</th>\n",
       "      <td>-28.071966</td>\n",
       "      <td>-45.267460</td>\n",
       "    </tr>\n",
       "    <tr>\n",
       "      <th>Kruisfontein</th>\n",
       "      <td>-63.667148</td>\n",
       "      <td>26.014287</td>\n",
       "    </tr>\n",
       "    <tr>\n",
       "      <th>Ushuaia</th>\n",
       "      <td>-70.396989</td>\n",
       "      <td>-38.226199</td>\n",
       "    </tr>\n",
       "    <tr>\n",
       "      <th>Rikitea</th>\n",
       "      <td>-49.554469</td>\n",
       "      <td>-136.320635</td>\n",
       "    </tr>\n",
       "    <tr>\n",
       "      <th>Havre-Saint-Pierre</th>\n",
       "      <td>50.686795</td>\n",
       "      <td>-62.605519</td>\n",
       "    </tr>\n",
       "    <tr>\n",
       "      <th>Atuona</th>\n",
       "      <td>-13.739637</td>\n",
       "      <td>-132.531057</td>\n",
       "    </tr>\n",
       "    <tr>\n",
       "      <th>Clyde River</th>\n",
       "      <td>68.321406</td>\n",
       "      <td>-72.906086</td>\n",
       "    </tr>\n",
       "  </tbody>\n",
       "</table>\n",
       "</div>"
      ],
      "text/plain": [
       "                    Random Lat  Random Lng\n",
       "Nearest City                              \n",
       "Yellowknife          68.131080 -104.721174\n",
       "Faya                 22.193012   20.749777\n",
       "Torbay               44.463280  -44.715341\n",
       "Florianopolis       -28.071966  -45.267460\n",
       "Kruisfontein        -63.667148   26.014287\n",
       "Ushuaia             -70.396989  -38.226199\n",
       "Rikitea             -49.554469 -136.320635\n",
       "Havre-Saint-Pierre   50.686795  -62.605519\n",
       "Atuona              -13.739637 -132.531057\n",
       "Clyde River          68.321406  -72.906086"
      ]
     },
     "execution_count": 14,
     "metadata": {},
     "output_type": "execute_result"
    }
   ],
   "source": [
    "cities_df = pd.DataFrame({\n",
    "    'Nearest City': testCities,\n",
    "    'Random Lat': latList,\n",
    "    'Random Lng': lngList\n",
    "})\n",
    "cities_df.set_index('Nearest City', inplace = True)\n",
    "cities_df"
   ]
  },
  {
   "cell_type": "code",
   "execution_count": 21,
   "metadata": {},
   "outputs": [
    {
     "data": {
      "image/png": "[encoded data removed]",
      "text/plain": [
       "<Figure size 1080x720 with 1 Axes>"
      ]
     },
     "metadata": {
      "needs_background": "light"
     },
     "output_type": "display_data"
    }
   ],
   "source": [
    "plt.figure(figsize = (15, 10))\n",
    "plt.scatter(x = cities_df['Random Lat'], y = cities_df['Random Lng'], s = 100, c = 'Red', marker = '^')\n",
    "plt.show()"
   ]
  },
  {
   "cell_type": "code",
   "execution_count": null,
   "metadata": {},
   "outputs": [],
   "source": []
  }
 ],
 "metadata": {
  "kernelspec": {
   "display_name": "Python 3",
   "language": "python",
   "name": "python3"
  },
  "language_info": {
   "codemirror_mode": {
    "name": "ipython",
    "version": 3
   },
   "file_extension": ".py",
   "mimetype": "text/x-python",
   "name": "python",
   "nbconvert_exporter": "python",
   "pygments_lexer": "ipython3",
   "version": "3.7.1"
  }
 },
 "nbformat": 4,
 "nbformat_minor": 2
}
